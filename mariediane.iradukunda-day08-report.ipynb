{
 "cells": [
  {
   "cell_type": "markdown",
   "id": "d95b32c7-ed17-4a9c-8eb6-3a3cd180c3fa",
   "metadata": {},
   "source": [
    "1.Create a function find_max() that accepts two numeric inputs and returns the greater value. Avoid using the built-in max() function."
   ]
  },
  {
   "cell_type": "code",
   "execution_count": 13,
   "id": "33b5b43b-75b5-4e78-9a3e-3d8b391fe3c6",
   "metadata": {},
   "outputs": [
    {
     "name": "stdin",
     "output_type": "stream",
     "text": [
      "Enter the first number 3\n",
      "enter the second number 5\n"
     ]
    },
    {
     "data": {
      "text/plain": [
       "5"
      ]
     },
     "execution_count": 13,
     "metadata": {},
     "output_type": "execute_result"
    }
   ],
   "source": [
    "def find_max(a,b):\n",
    "    \"\"\" This function will return the maximum number between two number and we will be using if statement\"\"\"\n",
    "    if a>b:\n",
    "       return a\n",
    "    else:\n",
    "        return b\n",
    "first_number=int(input(\"Enter the first number\"))\n",
    "second_number=int(input(\"enter the second number\"))\n",
    "find_max(first_number,second_number)\n",
    "    "
   ]
  },
  {
   "cell_type": "markdown",
   "id": "ba2b39b8-7e4a-4c34-99c7-868afae66e15",
   "metadata": {},
   "source": [
    "2.Develop a function find_max_of_three() to find the maximum among three given numbers."
   ]
  },
  {
   "cell_type": "code",
   "execution_count": 19,
   "id": "687c24b7-6f38-4b91-8362-a9afbde1b469",
   "metadata": {},
   "outputs": [
    {
     "name": "stdin",
     "output_type": "stream",
     "text": [
      "Enter the first number 2\n",
      "enter the second number 3\n",
      "enter the thrid number 4\n"
     ]
    },
    {
     "data": {
      "text/plain": [
       "4"
      ]
     },
     "execution_count": 19,
     "metadata": {},
     "output_type": "execute_result"
    }
   ],
   "source": [
    "def find_max_of_three(*arg):\n",
    "    \"\"\" This function will return the maximum number between two number and we will be using if statement\"\"\"\n",
    "    # if a>b and a>c:\n",
    "    #     print(f\"the first number{a} is the maximum number\")\n",
    "    # elif a<b and b>c:\n",
    "    #     print(f\"The second number {b} is the maximum  number\")\n",
    "    # elif c>a and b<c:\n",
    "    #     print(f\"The thrid number{c} is the maximum number \")\n",
    "    # else:\n",
    "    #     print(\"the numbers are equal\")\n",
    "    max = arg[0]\n",
    "    for n in arg:\n",
    "        max = find_max(max,n)\n",
    "    return max\n",
    "first_number=int(input(\"Enter the first number\"))\n",
    "second_number=int(input(\"enter the second number\"))\n",
    "third_number=int(input(\"enter the thrid number\"))\n",
    "find_max_of_three(first_number,second_number,third_number)"
   ]
  },
  {
   "cell_type": "markdown",
   "id": "2f2284ae-c745-4ad0-8aec-125c1f3febcd",
   "metadata": {},
   "source": [
    "3.Write a function to manually calculate the length of a given list or string without using len()"
   ]
  },
  {
   "cell_type": "code",
   "execution_count": 24,
   "id": "178745c4-d814-49e1-b900-843f4db93545",
   "metadata": {},
   "outputs": [
    {
     "data": {
      "text/plain": [
       "5"
      ]
     },
     "execution_count": 24,
     "metadata": {},
     "output_type": "execute_result"
    }
   ],
   "source": [
    "def length (series):\n",
    "    \"\"\"This function will help us to know the length of the list or string without using the len() by using the other method\"\"\"\n",
    "    i=0\n",
    "    lst=list(series)\n",
    "    while lst:\n",
    "        lst.pop()\n",
    "        i=i+1\n",
    "    return i\n",
    "length([1,2,3,4,5])\n",
    "    \n"
   ]
  },
  {
   "cell_type": "markdown",
   "id": "e83b6bd3-8dd7-4b80-9581-55eb2ca17664",
   "metadata": {},
   "source": [
    "4.Implement a function that checks if a given character is a vowel (a, e, i, o, u)."
   ]
  },
  {
   "cell_type": "code",
   "execution_count": 33,
   "id": "c99b2628-40f7-4c12-b38a-3c86fde6955a",
   "metadata": {},
   "outputs": [
    {
     "name": "stdin",
     "output_type": "stream",
     "text": [
      "Enter the character q\n"
     ]
    },
    {
     "name": "stdout",
     "output_type": "stream",
     "text": [
      "q is not vowel\n"
     ]
    }
   ],
   "source": [
    "def vowel_check(chr):\n",
    "    \"\"\" This function will help us to know if the given character is vowel or not\"\"\"\n",
    "    if chr == ('a',' e',' i', 'o',' u'):\n",
    "        print(f\"{chr} is vowel\")\n",
    "    else:\n",
    "        print(f\"{chr} is not vowel\")\n",
    "a=input(\"Enter the character\")\n",
    "vowel_check(a)"
   ]
  },
  {
   "cell_type": "markdown",
   "id": "97136d15-4545-47fb-a039-556d5ab91a85",
   "metadata": {},
   "source": [
    "5.Write a function encode() that converts a string into “rövarspråket” (robber’s language) by doubling consonants and placing “o” in between, e.g., “hello” -> “hohelollolo”."
   ]
  },
  {
   "cell_type": "code",
   "execution_count": 40,
   "id": "641b6884-af76-4544-bae6-dd46e5b8b80e",
   "metadata": {},
   "outputs": [
    {
     "data": {
      "text/plain": [
       "'hohelollolo'"
      ]
     },
     "execution_count": 40,
     "metadata": {},
     "output_type": "execute_result"
    }
   ],
   "source": [
    "def encode(str):\n",
    "    vowels = \"aeiouAEIOU\"\n",
    "    result =[]\n",
    "    for char in str:\n",
    "        if  char.isalpha() and char not in vowels:\n",
    "            result.append(char+\"o\"+char)\n",
    "        else:\n",
    "            result.append(char)\n",
    "    return''.join(result)\n",
    "\n",
    "encode(\"hello\")"
   ]
  },
  {
   "cell_type": "markdown",
   "id": "bc7b6f6e-f4dc-4f9d-84aa-be024702bfb0",
   "metadata": {},
   "source": [
    "6.Create sum_elements() and product_elements() functions to sum and multiply all elements in a list, respectively."
   ]
  },
  {
   "cell_type": "code",
   "execution_count": 45,
   "id": "1d6b2e28-a6ad-40ab-8581-606d8ec85b24",
   "metadata": {},
   "outputs": [
    {
     "name": "stdout",
     "output_type": "stream",
     "text": [
      "27\n",
      "2688\n"
     ]
    }
   ],
   "source": [
    "def sum_element(lst):\n",
    "    s=0\n",
    "    for num in lst:\n",
    "        s=s+num\n",
    "    return s\n",
    "def product_element(lst):\n",
    "    product=1\n",
    "    for num in lst:\n",
    "        product=product*num\n",
    "    return product\n",
    "numbers=[2,6,4,7,8]\n",
    "print(sum_element(numbers))\n",
    "print(product_element(numbers))"
   ]
  },
  {
   "cell_type": "markdown",
   "id": "3fdd3ce1-f293-443f-a446-a3c3384cf61e",
   "metadata": {},
   "source": [
    "7.Define a function reverse_string() to reverse the characters in a given string"
   ]
  },
  {
   "cell_type": "code",
   "execution_count": 50,
   "id": "20521665-aab7-47a7-93e5-90cd8d487532",
   "metadata": {},
   "outputs": [
    {
     "name": "stdout",
     "output_type": "stream",
     "text": [
      "enaiD\n"
     ]
    }
   ],
   "source": [
    "def reverse_string(str):\n",
    "    return str[::-1]\n",
    "print(reverse_string(\"Diane\"))\n",
    "    "
   ]
  },
  {
   "cell_type": "markdown",
   "id": "30376309-b18f-4386-9d69-2a0b22af950a",
   "metadata": {},
   "source": [
    "8.Implement check_palindrome() to verify if a string reads the same forwards and backwards, i.e. is a palindrome."
   ]
  },
  {
   "cell_type": "code",
   "execution_count": 55,
   "id": "228b0946-87d8-4de6-8c76-1d3ed3dec933",
   "metadata": {},
   "outputs": [
    {
     "name": "stdout",
     "output_type": "stream",
     "text": [
      "No\n"
     ]
    }
   ],
   "source": [
    "def check_Palindrome(word):\n",
    "    return word == word[::-1]\n",
    "\n",
    "\n",
    "word= \"Marie\"\n",
    "result = check_Palindrome(word)\n",
    "\n",
    "if result:\n",
    "    print(\"Yes\")\n",
    "else:\n",
    "    print(\"No\")\n"
   ]
  },
  {
   "cell_type": "markdown",
   "id": "3750bcef-a041-496c-b9fa-ef62b090d218",
   "metadata": {},
   "source": [
    "9.Develop a function check_membership() to determine if a value exists within a list."
   ]
  },
  {
   "cell_type": "code",
   "execution_count": 62,
   "id": "18723665-2081-42f6-bd07-1005ac7befc3",
   "metadata": {},
   "outputs": [
    {
     "name": "stdout",
     "output_type": "stream",
     "text": [
      "True\n"
     ]
    }
   ],
   "source": [
    "def check_membership(value,lst):\n",
    "    for i in lst:\n",
    "        if i == value:\n",
    "            return True\n",
    "    return False\n",
    "numbers = [1,2,3,4,5,6]\n",
    "print(check_membership(6,numbers))\n",
    "        \n"
   ]
  },
  {
   "cell_type": "markdown",
   "id": "70481b13-3b79-45ee-b461-7c35c318ba62",
   "metadata": {},
   "source": [
    "10.Write check_overlap() to identify if two lists share any elements."
   ]
  },
  {
   "cell_type": "code",
   "execution_count": 79,
   "id": "ea0978cb-cd3a-4902-b0ff-45ed2e50393c",
   "metadata": {},
   "outputs": [
    {
     "name": "stdout",
     "output_type": "stream",
     "text": [
      "True\n"
     ]
    }
   ],
   "source": [
    "def check_overlap(list1,list2):\n",
    "    for i in list1:\n",
    "        if i in list2:\n",
    "            return  True\n",
    "    return  False\n",
    "lst1=[1,2,3,4]\n",
    "lst2=[4,3,6,7]\n",
    "print(check_overlap(lst1,lst2))"
   ]
  }
 ],
 "metadata": {
  "kernelspec": {
   "display_name": "Python 3 (ipykernel)",
   "language": "python",
   "name": "python3"
  },
  "language_info": {
   "codemirror_mode": {
    "name": "ipython",
    "version": 3
   },
   "file_extension": ".py",
   "mimetype": "text/x-python",
   "name": "python",
   "nbconvert_exporter": "python",
   "pygments_lexer": "ipython3",
   "version": "3.12.4"
  }
 },
 "nbformat": 4,
 "nbformat_minor": 5
}
