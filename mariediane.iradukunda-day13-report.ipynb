{
 "cells": [
  {
   "cell_type": "markdown",
   "id": "047f0218-632b-49e0-8e84-f793314528ac",
   "metadata": {},
   "source": [
    "PyPro Challenges"
   ]
  },
  {
   "cell_type": "markdown",
   "id": "6dfbbbef-99ed-4e2d-93b7-6a53e4c2875a",
   "metadata": {},
   "source": [
    "1. Perfect Numbers Calculation\n",
    "By definition, a natural number is called a perfect number if its value is equal to the sum of its divisors. For example, 6 and 28 are perfect numbers:\n",
    "\n",
    "1 + 2 + 3 = 6\n",
    "\n",
    "\r\n",
    "1 + 2 + 4 + 7 + 14 = 2\n",
    "\n",
    "Write a function calc_perfect_numbers(max_exclusive) that calculates all perfect numbers up to a maximum value, such as 10,000.8"
   ]
  },
  {
   "cell_type": "code",
   "execution_count": 1,
   "id": "8ac91638-97e3-4e75-ae60-713794291798",
   "metadata": {},
   "outputs": [
    {
     "name": "stdout",
     "output_type": "stream",
     "text": [
      "[6, 28, 496, 8128]\n"
     ]
    }
   ],
   "source": [
    "def calc_perfect_numbers(max_exclusive):  \n",
    "    def is_perfect(n):  \n",
    "        if n < 2:  \n",
    "            return False  \n",
    "        divisor_sum = 1   \n",
    "        for i in range(2, n):  \n",
    "            if n % i == 0:\n",
    "                divisor_sum += i\n",
    "        if divisor_sum == n:\n",
    "            return n  \n",
    "\n",
    "    perfect_nums = []  \n",
    "    for number in range(2, max_exclusive):  \n",
    "        if is_perfect(number):  \n",
    "            perfect_nums.append(number)  \n",
    "\n",
    "    return perfect_nums\n",
    "\n",
    "perfect_numbers_up_to_10000 = calc_perfect_numbers(10000)  \n",
    "print(perfect_numbers_up_to_10000)\n"
   ]
  },
  {
   "cell_type": "markdown",
   "id": "7273c00b-adbe-4986-9b4c-1541fd439b9b",
   "metadata": {},
   "source": [
    "##### 2. Prime Numbers Calculation\n",
    "\n",
    "Write a function calc_primes_up_to(max_value) to compute all prime numbers up to a given value. A prime number is a natural number greater than 1 that is only divisible by 1 and itself. The Sieve of Eratosthenes is a useful algorithm for this task.\r\n",
    "Test your algorithm with the following values:\r\n"
   ]
  },
  {
   "cell_type": "code",
   "execution_count": 4,
   "id": "3477cdb4-774d-4b24-b05d-746f02edf4f5",
   "metadata": {},
   "outputs": [
    {
     "name": "stdout",
     "output_type": "stream",
     "text": [
      "[2, 3, 5, 7, 11, 13, 17, 19, 23, 29]\n",
      "[2, 3, 5, 7, 11, 13, 17, 19, 23, 29, 31, 37, 41, 43, 47]\n",
      "[2, 3, 5, 7, 11, 13, 17, 19, 23, 29, 31, 37, 41, 43, 47, 53, 59, 61, 67]\n"
     ]
    }
   ],
   "source": [
    "def calc_primes_max(max_value):  \n",
    "    if max_value < 2:  \n",
    "        return []  \n",
    "    \n",
    "    prime_numbers = []  \n",
    "    for num in range(2, max_value + 1):  \n",
    "        prime_check = True   \n",
    "        for divisor in range(2, num):  \n",
    "            if num % divisor == 0:  \n",
    "                prime_check = False  \n",
    "                break  \n",
    "        if prime_check:  \n",
    "            prime_numbers.append(num)  \n",
    "    \n",
    "    return prime_numbers  \n",
    "\n",
    "print(calc_primes_max(29))  \n",
    "print(calc_primes_max(47))  \n",
    "print(calc_primes_max(67))\n"
   ]
  },
  {
   "cell_type": "markdown",
   "id": "075246df-b53d-4dda-9945-2985d576656f",
   "metadata": {},
   "source": [
    "#### 3. Twin, Cousin, and Sexy Prime Numbers\n",
    "\n",
    "   Compute all pairs of prime numbers with a distance of 2 (twin), 4 (cousin), and 6 (sexy) up to an upper bound n.\r\n",
    "For example, for limit=50, the expected results are:\r\n",
    "\r\n",
    "Twins: {3: 5, 5: 7, 11: 13, 17: 19, 29: 31, 41: 43}\r\n",
    "\r\n",
    "Cousins: {3: 7, 7: 11, 13: 17, 19: 23, 37: 41, 43: 47}\r\n",
    "\r\n",
    "Sexy: {5: 11, 7: 13, 11: 17, 13: 19, 17: 23, 23: 29, 31: 37, 37: 43, 41: 47, 47: 53}"
   ]
  },
  {
   "cell_type": "code",
   "execution_count": 8,
   "id": "b4e80b29-ef82-4e90-8889-8791dbadf56f",
   "metadata": {},
   "outputs": [
    {
     "name": "stdout",
     "output_type": "stream",
     "text": [
      "Twins: {3: 5, 5: 7, 11: 13, 17: 19, 29: 31, 41: 43}\n",
      "Cousins: {3: 7, 7: 11, 13: 17, 19: 23, 37: 41, 43: 47}\n",
      "Sexy: {5: 11, 7: 13, 11: 17, 13: 19, 17: 23, 23: 29, 31: 37, 37: 43, 41: 47, 47: 53}\n"
     ]
    }
   ],
   "source": [
    "def calc_primes_up_to(max_value):  \n",
    "    if max_value < 2:  \n",
    "        return []  \n",
    "    # 0 and 1 are not primes  \n",
    "    prime_flags = [True] * (max_value + 1)  \n",
    "    prime_flags[0] = prime_flags[1] = False \n",
    "\n",
    "    for candidate in range(2, int(max_value**0.5) + 1):  \n",
    "        if prime_flags[candidate]:  \n",
    "            for non_prime in range(candidate * candidate, max_value + 1, candidate):  \n",
    "                prime_flags[non_prime] = False  \n",
    "\n",
    "    return [number for number, prime in enumerate(prime_flags) if prime]  \n",
    "\n",
    "def find_prime_relationships(limit):  \n",
    "    # Calculate primes up to limit + 6  \n",
    "    primes_list = calc_primes_up_to(limit + 6)  \n",
    "    primes_set = set(primes_list)  # Use a set for O(1) lookups  \n",
    "\n",
    "    twin_primes = {}  \n",
    "    cousin_primes = {}  \n",
    "    sexy_primes = {}  \n",
    "    \n",
    "    for prime_num in primes_list:  \n",
    "        if prime_num + 2 in primes_set:  \n",
    "            twin_primes[prime_num] = prime_num + 2  \n",
    "        if prime_num + 4 in primes_set:  \n",
    "            cousin_primes[prime_num] = prime_num + 4  \n",
    "        if prime_num + 6 in primes_set:  \n",
    "            sexy_primes[prime_num] = prime_num + 6  \n",
    "\n",
    "    return twin_primes, cousin_primes, sexy_primes  \n",
    "\n",
    "# Example usage:  \n",
    "limit = 50  \n",
    "twin_primes, cousin_primes, sexy_primes = find_prime_relationships(limit)  \n",
    "\n",
    "print(\"Twins:\", twin_primes)  \n",
    "print(\"Cousins:\", cousin_primes)  \n",
    "print(\"Sexy:\", sexy_primes)\n"
   ]
  },
  {
   "cell_type": "markdown",
   "id": "584761f6-fd93-41e1-86f7-978ab74bd9a9",
   "metadata": {},
   "source": [
    "#### 4. Sum of Digits (Recursive)\n",
    "\n",
    "   Write a recursive function calc_sum_of_digits(value) that calculates the sum of the digits of a given number.\r\n",
    "Examples:\r\n",
    "\r\n",
    "Input\r\n",
    "\r\n",
    "Number of Digits\r\n",
    "\r\n",
    "Cross Sum\r\n",
    "\r\n",
    "1234\r\n",
    "\r\n",
    "4\r\n",
    "\r\n",
    "1 + 2 + 3 + 4 = 10\r\n",
    "\r\n",
    "1234567\r\n",
    "\r\n",
    "7\r\n",
    "\r\n",
    "1 + 2 + 3 + … 7 = 28"
   ]
  },
  {
   "cell_type": "code",
   "execution_count": 5,
   "id": "1ee24459-6e50-4e88-95d8-e7084be02fd5",
   "metadata": {},
   "outputs": [
    {
     "name": "stdout",
     "output_type": "stream",
     "text": [
      "10\n",
      "28\n"
     ]
    }
   ],
   "source": [
    "def calc_sum_of_digits(value):\n",
    "    if value == 0:\n",
    "        return 0\n",
    "    else:\n",
    "        return (value % 10) + calc_sum_of_digits(value // 10)\n",
    "\n",
    "print(calc_sum_of_digits(1234))    \n",
    "print(calc_sum_of_digits(1234567))  "
   ]
  },
  {
   "cell_type": "markdown",
   "id": "1d454b07-35c3-4636-aa4f-6bc43a2c4877",
   "metadata": {},
   "source": [
    "### 5. Convert to Binary (Recursive)\n",
    "\n",
    "   Write a function to_binary(n) that recursively converts the given positive integer into its binary string representation (without using int(x, base))."
   ]
  },
  {
   "cell_type": "code",
   "execution_count": 10,
   "id": "ccc8a675-053e-4de8-b185-d6b596edb907",
   "metadata": {},
   "outputs": [
    {
     "name": "stdout",
     "output_type": "stream",
     "text": [
      "1010\n",
      "1100\n",
      "11000\n",
      "11110\n"
     ]
    }
   ],
   "source": [
    "def to_binary(n):\n",
    "    if n == 0:\n",
    "        return \"\"\n",
    "    else:\n",
    "        return to_binary(n // 2) + str(n % 2)\n",
    "\n",
    "def convert_to_binary(n):\n",
    "    if n == 0:\n",
    "        return \"0\"\n",
    "    return to_binary(n)\n",
    "\n",
    "print(convert_to_binary(10))    \n",
    "print(convert_to_binary(12))   \n",
    "print(convert_to_binary(24))  \n",
    "print(convert_to_binary(30))   \n"
   ]
  },
  {
   "cell_type": "markdown",
   "id": "fbe613b0-64c8-4e2e-b491-dcea789f7997",
   "metadata": {},
   "source": [
    "### 6. Letter Permutations\n",
    "\n",
    "   Write a function calc_permutations(text) that calculates all possible permutations of the characters in the given string. Handle duplicate letters but avoid using Python’s itertools.permutations()."
   ]
  },
  {
   "cell_type": "code",
   "execution_count": 16,
   "id": "d621e878-741a-49fd-a579-ad6b2583ea7d",
   "metadata": {},
   "outputs": [
    {
     "name": "stdout",
     "output_type": "stream",
     "text": [
      "['a']\n",
      "['aa']\n",
      "['aB', 'Ba']\n",
      "['BaC', 'BCa', 'aBC', 'aCB', 'CBa', 'CaB']\n",
      "['aaC', 'Caa', 'aCa']\n"
     ]
    }
   ],
   "source": [
    "def calc_permutations(text):\n",
    "    if len(text) == 1:\n",
    "        return [text]\n",
    "    perm_set = set()\n",
    "    \n",
    "    for idx, letter in enumerate(text):\n",
    "        remaining_letters = text[:idx] + text[idx+1:]\n",
    "        \n",
    "        for sub_perm in calc_permutations(remaining_letters):\n",
    "            perm_set.add(letter + sub_perm)\n",
    "    \n",
    "    return list(perm_set)\n",
    "\n",
    "print(calc_permutations(\"a\"))      \n",
    "print(calc_permutations(\"aa\"))     \n",
    "print(calc_permutations(\"aB\"))     \n",
    "print(calc_permutations(\"aBC\"))    \n",
    "print(calc_permutations(\"aaC\"))\n"
   ]
  },
  {
   "cell_type": "markdown",
   "id": "f3efc796-0c07-45a4-b89c-36922134e0cd",
   "metadata": {},
   "source": [
    "### 7. Join Strings with Delimiter\n",
    "\n",
    " Write a function join(values, delimiter) that joins a list of strings with the given delimiter and returns it as a single string. Implement this without using Python’s built-in join() function."
   ]
  },
  {
   "cell_type": "code",
   "execution_count": 21,
   "id": "20f5941c-2075-4b41-a1ed-7e67720673c4",
   "metadata": {},
   "outputs": [
    {
     "name": "stdout",
     "output_type": "stream",
     "text": [
      "hello +++ world +++ message\n"
     ]
    }
   ],
   "source": [
    "def join(values, delimiter):\n",
    "    return delimiter.join(values) if values else \"\"\n",
    "\n",
    "print(join([\"hello\", \"world\", \"message\"], \" +++ \"))\n",
    "\n"
   ]
  },
  {
   "cell_type": "markdown",
   "id": "e2775408-4018-4ecc-b4e4-05987b827c05",
   "metadata": {},
   "source": [
    "### 8. Pascal’s Triangle\n",
    "\n",
    "   Write a function pascal(n) that computes Pascal’s triangle as nested lists. Each line is generated from the previous one, with sums of adjacent numbers and a 1 at the beginning and end.\r\n",
    "Example for n=5:"
   ]
  },
  {
   "cell_type": "code",
   "execution_count": 24,
   "id": "b7322133-f7be-4944-bfcd-e3832e6ebbe9",
   "metadata": {
    "scrolled": true
   },
   "outputs": [
    {
     "name": "stdout",
     "output_type": "stream",
     "text": [
      "[1]\n",
      "[1, 1]\n",
      "[1, 2, 1]\n",
      "[1, 3, 3, 1]\n",
      "[1, 4, 6, 4, 1]\n"
     ]
    }
   ],
   "source": [
    "def pascal(n):\n",
    "    triangle = [[1]]\n",
    "    for i in range(1, n):\n",
    "        previous_row = triangle[-1]\n",
    "        row = [1] + [previous_row[j] + previous_row[j+1] for j in range(len(previous_row)-1)] + [1]\n",
    "        triangle.append(row)\n",
    "    \n",
    "    return triangle\n",
    "\n",
    "for row in pascal(5):\n",
    "    print(row)\n"
   ]
  },
  {
   "cell_type": "markdown",
   "id": "e3136749-d0bf-4639-8f0b-5a4e7248e915",
   "metadata": {},
   "source": [
    "#### 9. Contains All Values\n",
    "\n",
    "    Write a function contains_all(values, search_values) that checks if all search values are present in the given list. Do not use Python’s all() function."
   ]
  },
  {
   "cell_type": "code",
   "execution_count": 13,
   "id": "f71504ae-d281-44b2-b84d-2c093c089984",
   "metadata": {},
   "outputs": [
    {
     "name": "stdout",
     "output_type": "stream",
     "text": [
      "True\n",
      "False\n"
     ]
    }
   ],
   "source": [
    "def contains_all(values, search_values):\n",
    "    for item in search_values:\n",
    "        if item not in values:\n",
    "            return False\n",
    "    return True\n",
    "print(contains_all([0, 1, 2, 3, 4, 5, 6, 7, 8, 9], [7, 2]))  \n",
    "print(contains_all([0, 1, 2, 3, 4, 5, 6, 7, 8, 9], [5, 11])) \n"
   ]
  },
  {
   "cell_type": "markdown",
   "id": "cc088461-eb46-4968-8a4b-6fde6220a45b",
   "metadata": {},
   "source": [
    "### 10. Optimized Insertion Sort\n",
    "\n",
    "    Rewrite the insertion sort algorithm to perform the sorting in one pass by finding the correct insertion point and swapping elements. Write an optimized version of insertion_sort(values).\r\n",
    "Example:\r\n",
    "\r\n",
    "Input: [7, 2, 5, 1, 6, 8, 9, 4, 3]\r\n",
    "\r\n",
    "Result: [1, 2, 3, 4, 5, 6, 7, 8, 9]"
   ]
  },
  {
   "cell_type": "code",
   "execution_count": 28,
   "id": "c048eeaf-66ac-4d9d-91ac-c92ff4664863",
   "metadata": {},
   "outputs": [
    {
     "name": "stdout",
     "output_type": "stream",
     "text": [
      "[1, 2, 3, 4, 5, 6, 7, 8, 9]\n"
     ]
    }
   ],
   "source": [
    "def insertion_sort(values):\n",
    "    for i in range(1, len(values)):\n",
    "        current = values[i]\n",
    "        j = i - 1\n",
    "        while j >= 0 and values[j] > current:\n",
    "            values[j + 1] = values[j]\n",
    "            j -= 1\n",
    "        values[j + 1] = current\n",
    "\n",
    "    return values\n",
    "\n",
    "result = insertion_sort([7, 2, 5, 1, 6, 8, 9, 4, 3])\n",
    "print(result)\n"
   ]
  }
 ],
 "metadata": {
  "kernelspec": {
   "display_name": "Python 3 (ipykernel)",
   "language": "python",
   "name": "python3"
  },
  "language_info": {
   "codemirror_mode": {
    "name": "ipython",
    "version": 3
   },
   "file_extension": ".py",
   "mimetype": "text/x-python",
   "name": "python",
   "nbconvert_exporter": "python",
   "pygments_lexer": "ipython3",
   "version": "3.12.4"
  }
 },
 "nbformat": 4,
 "nbformat_minor": 5
}
