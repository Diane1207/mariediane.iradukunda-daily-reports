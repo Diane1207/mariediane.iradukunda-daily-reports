{
 "cells": [
  {
   "cell_type": "markdown",
   "id": "9d35130e-8a6f-46b3-8e48-9bbad3ece332",
   "metadata": {},
   "source": [
    "1. Compute the following expressions for a natural number n chosen by the user:\n"
   ]
  },
  {
   "cell_type": "code",
   "execution_count": 32,
   "id": "bf7c7e41-79ce-4675-8083-c31e8ed7b0ab",
   "metadata": {},
   "outputs": [
    {
     "name": "stdin",
     "output_type": "stream",
     "text": [
      "enter the natural number 4\n"
     ]
    },
    {
     "name": "stdout",
     "output_type": "stream",
     "text": [
      "the product of even numbers is 15\n"
     ]
    }
   ],
   "source": [
    "## even number\n",
    "n= int(input(\"enter the natural number\"))\n",
    "product = 1\n",
    "for i in range(n):\n",
    "    if (i%2 == 0):\n",
    "        product = product * (i + 3)\n",
    "print(\"the product of even numbers is\",product)        "
   ]
  },
  {
   "cell_type": "code",
   "execution_count": 7,
   "id": "3d0dad6e-ddbf-40bd-9e22-651222178d3d",
   "metadata": {},
   "outputs": [
    {
     "name": "stdin",
     "output_type": "stream",
     "text": [
      "enter the natural number 10\n"
     ]
    },
    {
     "name": "stdout",
     "output_type": "stream",
     "text": [
      "the summation of the odd number 40\n"
     ]
    }
   ],
   "source": [
    "## odd number\n",
    "n= int(input(\"enter the natural number\"))\n",
    "sum = 0\n",
    "for i in range(n):\n",
    "    if (i%2 != 0):\n",
    "        sum = sum + (i+3)\n",
    "print(\"the summation of the odd number\",sum)        "
   ]
  },
  {
   "cell_type": "markdown",
   "id": "79d313a4-7028-4893-b70a-4723e8e4b4c6",
   "metadata": {},
   "source": [
    "2. Write a program that reads the number of the day of the week (from 0 to 6). If it is a\n",
    "working day, then the program will write the name of the corresponding day. Otherwise,\n",
    "it will write the word \"Weekend\"."
   ]
  },
  {
   "cell_type": "code",
   "execution_count": null,
   "id": "ec65064f-07fd-42a5-bf8e-19e7710a1829",
   "metadata": {},
   "outputs": [],
   "source": [
    "day = int(input(\"Enter the day number from 0 to 6\"))\n",
    "week_days = [\"monday\",\"tuesday\",\"wednesday\",\"thusday\",\"friday\",\"weekend\",\"weekend\"]\n",
    "if day>=0 or day<5 :\n",
    "   print(wee_days[day]) \n",
    "else:\n",
    "    print(\"weekend\")"
   ]
  },
  {
   "cell_type": "markdown",
   "id": "92ae07e2-4074-42d8-aefa-a1882ea2bad8",
   "metadata": {},
   "source": [
    "3. Make a program that, given a month number (from 0 to 11), indicates how many days it\n",
    "has (28, 30 or 31), ignoring the leap years."
   ]
  },
  {
   "cell_type": "code",
   "execution_count": 37,
   "id": "40a5e57c-bb66-4d21-a000-e6195a507071",
   "metadata": {},
   "outputs": [
    {
     "name": "stdin",
     "output_type": "stream",
     "text": [
      "enter the number of month between 0 and 11 0\n"
     ]
    },
    {
     "name": "stdout",
     "output_type": "stream",
     "text": [
      "31\n"
     ]
    }
   ],
   "source": [
    "number_of_month = int(input(\"Enter the number of month between 0 and 11\"))\n",
    "days = [31,28,31,30,31,30,31,31,30,31,30,31]\n",
    "i=0\n",
    "while i<=11:\n",
    "    if number_of_month == i:\n",
    "        print(days[i])\n",
    "        break\n",
    "    i=i+1\n",
    "else:\n",
    "    print(\"please enter the valid number\")"
   ]
  },
  {
   "cell_type": "markdown",
   "id": "f2c7703c-a30c-4314-80b4-8b800204aa02",
   "metadata": {},
   "source": [
    "4. Write two versions of python code that displays your name 3 times. One version with a\n",
    "\"for loop\" and another version with a \"while loop\"."
   ]
  },
  {
   "cell_type": "code",
   "execution_count": 52,
   "id": "5a366ecd-117f-4e84-8c97-3cfa79eb4abe",
   "metadata": {},
   "outputs": [
    {
     "name": "stdin",
     "output_type": "stream",
     "text": [
      "enter your name Diane\n"
     ]
    },
    {
     "name": "stdout",
     "output_type": "stream",
     "text": [
      "Diane\n",
      "Diane\n",
      "Diane\n"
     ]
    }
   ],
   "source": [
    "## for loop\n",
    "name = input(\"Enter your name\")\n",
    "for i in range(3):\n",
    "     print(name)"
   ]
  },
  {
   "cell_type": "code",
   "execution_count": 49,
   "id": "01e27e5e-4ac8-47a5-bb2c-544cc3296e98",
   "metadata": {},
   "outputs": [
    {
     "name": "stdin",
     "output_type": "stream",
     "text": [
      "enter your name marie diane\n"
     ]
    },
    {
     "name": "stdout",
     "output_type": "stream",
     "text": [
      "marie diane\n",
      "marie diane\n",
      "marie diane\n"
     ]
    }
   ],
   "source": [
    "## while loop\n",
    "name = input(\"enter your name\")\n",
    "i=0\n",
    "while i <3 :\n",
    "      print(name)\n",
    "      i=i+1"
   ]
  },
  {
   "cell_type": "markdown",
   "id": "69f487cb-15be-4b7b-9234-f123af2b72a6",
   "metadata": {},
   "source": [
    "5.Given two numbers a0 and a1, the Fibonacci sequence they generate is constructed from\n",
    "the recursion formula an+1 = an + an−1. Calculate the first 15 terms of a Fibonacci\n",
    "sequence, asking the user the initial values."
   ]
  },
  {
   "cell_type": "code",
   "execution_count": 61,
   "id": "7f0a91ec-31e9-4c37-81f3-49389487152c",
   "metadata": {},
   "outputs": [
    {
     "name": "stdin",
     "output_type": "stream",
     "text": [
      "enter the first number 1\n",
      "enter the second number 2\n"
     ]
    },
    {
     "name": "stdout",
     "output_type": "stream",
     "text": [
      "234567891011121314151617\n"
     ]
    }
   ],
   "source": [
    "a=int(input(\"enter the first number\"))\n",
    "a1=int(input(\"enter the second number\"))\n",
    "n=15\n",
    "nextnumber=a1\n",
    "i=0\n",
    "while i<=n:\n",
    "      print(nextnumber, end=\"\")\n",
    "      i=i+1 \n",
    "      a,a1 = a,nextnumber\n",
    "      nextnumber = a + a1\n",
    "print()"
   ]
  },
  {
   "cell_type": "markdown",
   "id": "cfdf3e5b-fb43-4974-80b7-feb1d8c82773",
   "metadata": {},
   "source": [
    "6. Compute the first 30 terms of the sequence defined by 2xn+2 − xn+1 − 6xn = 0 sequence,\n",
    "given any two initial values x0 and x1"
   ]
  },
  {
   "cell_type": "code",
   "execution_count": 66,
   "id": "85648155-24f0-48dd-ac48-7c1354a4e0d1",
   "metadata": {},
   "outputs": [
    {
     "name": "stdin",
     "output_type": "stream",
     "text": [
      "Enter the initial value1 1\n",
      "Enter the initial value2 2\n"
     ]
    },
    {
     "name": "stdout",
     "output_type": "stream",
     "text": [
      "1\n",
      "4.0\n",
      "4.0\n",
      "8.0\n",
      "16.0\n",
      "32.0\n",
      "64.0\n",
      "128.0\n",
      "256.0\n",
      "512.0\n",
      "1024.0\n",
      "2048.0\n",
      "4096.0\n",
      "8192.0\n",
      "16384.0\n",
      "32768.0\n",
      "65536.0\n",
      "131072.0\n",
      "262144.0\n",
      "524288.0\n",
      "1048576.0\n",
      "2097152.0\n",
      "4194304.0\n",
      "8388608.0\n",
      "16777216.0\n",
      "33554432.0\n",
      "67108864.0\n",
      "134217728.0\n",
      "268435456.0\n",
      "536870912.0\n",
      "1073741824.0\n"
     ]
    }
   ],
   "source": [
    "x0 = int(input(\"Enter the initial value1\"))\n",
    "x1 = int(input(\"Enter the initial value2\"))\n",
    "for i in range(30):\n",
    "    if i==0 :\n",
    "        print(x0)\n",
    "    if i==1 :\n",
    "        print(x1)\n",
    "    else:\n",
    "        x0,x1 = x1, (6*x0 + x1)/2\n",
    "        print(x1)\n"
   ]
  },
  {
   "cell_type": "markdown",
   "id": "07ec47be-44bb-4e12-8c22-64ca27684406",
   "metadata": {},
   "source": [
    "7. a) Write python code to determine whether or not a year is a leap year. Be sure you\n",
    "know what a leap year is."
   ]
  },
  {
   "cell_type": "code",
   "execution_count": 97,
   "id": "21699a76-cc6f-49a7-be25-cfe9ceba057b",
   "metadata": {},
   "outputs": [
    {
     "name": "stdin",
     "output_type": "stream",
     "text": [
      "enter the year you want to check 2017\n"
     ]
    },
    {
     "name": "stdout",
     "output_type": "stream",
     "text": [
      "year is not leap\n"
     ]
    }
   ],
   "source": [
    "year = int(input(\"enter the year you want to check\"))\n",
    "if year%400==0:\n",
    "    print(\"the year is leap\")\n",
    "    if year%100 !=0 :\n",
    "        if year%4 == 0:\n",
    "            print((\"the year is leap\"))\n",
    "else:\n",
    "    print(\"year is not leap\")"
   ]
  },
  {
   "cell_type": "markdown",
   "id": "af89a922-5bbb-453b-b6f2-7d5e7de70718",
   "metadata": {},
   "source": [
    "b) Write the code using only logical operators, i.e. no conditional branching."
   ]
  },
  {
   "cell_type": "code",
   "execution_count": 6,
   "id": "90665a39-d6a8-4e40-9881-3f75172ef096",
   "metadata": {},
   "outputs": [
    {
     "name": "stdin",
     "output_type": "stream",
     "text": [
      "enter the year you want to check 2017\n"
     ]
    },
    {
     "name": "stdout",
     "output_type": "stream",
     "text": [
      "year is not leap year\n"
     ]
    }
   ],
   "source": [
    "year = int(input(\"enter the year you want to check\"))\n",
    "if year%400==0 or year%100 !=0 and year%4==0:\n",
    "    print(\"year is leap\")\n",
    "else:\n",
    "    print(\"year is not leap year\")"
   ]
  },
  {
   "cell_type": "markdown",
   "id": "3095f727-e3e3-47ad-a9a6-dc354a415e01",
   "metadata": {},
   "source": [
    "8. a) Write python code that computes the sum of the square of the first n natural numbers.\n",
    "One version with a \"for loop\" and another version with a \"while loop\"."
   ]
  },
  {
   "cell_type": "code",
   "execution_count": 109,
   "id": "cd884e74-7b8b-47d8-81f7-9e34c5c3ff6c",
   "metadata": {},
   "outputs": [
    {
     "name": "stdin",
     "output_type": "stream",
     "text": [
      "enter the number 10\n"
     ]
    },
    {
     "name": "stdout",
     "output_type": "stream",
     "text": [
      "285\n"
     ]
    }
   ],
   "source": [
    "## for loop\n",
    "n=int(input(\"enter the number\"))\n",
    "sum=0\n",
    "for i in  range(n) :\n",
    "    sum = sum+(i*i)\n",
    "print (sum)\n",
    "    "
   ]
  },
  {
   "cell_type": "code",
   "execution_count": 111,
   "id": "6f12a955-944e-4b34-b1ad-a5273d33d3b9",
   "metadata": {},
   "outputs": [
    {
     "name": "stdin",
     "output_type": "stream",
     "text": [
      "enter the number 10\n"
     ]
    },
    {
     "name": "stdout",
     "output_type": "stream",
     "text": [
      "285\n"
     ]
    }
   ],
   "source": [
    "##while loop\n",
    "n=int(input(\"enter the number\"))\n",
    "sum=0\n",
    "i=1\n",
    "while i<n :\n",
    "      sum=sum+(i*i)\n",
    "      i=i+1\n",
    "print(sum)"
   ]
  },
  {
   "cell_type": "markdown",
   "id": "976f300c-e2e6-4093-802d-10d9d015bc16",
   "metadata": {},
   "source": [
    "b) Write python code that prints, for a natural number M, the smallest natural number\n",
    "n such that 1\n",
    "\n",
    "2 + 22 +· · ·+n\n",
    "\n",
    "2 ≥ M. One version with a \"for loop\" and another version\n",
    "\n",
    "with a \"while loop\"."
   ]
  },
  {
   "cell_type": "code",
   "execution_count": 129,
   "id": "e56227ac-16d3-4fb4-8246-91ae702b9775",
   "metadata": {},
   "outputs": [
    {
     "name": "stdin",
     "output_type": "stream",
     "text": [
      "enter the a natural number 10\n"
     ]
    },
    {
     "name": "stdout",
     "output_type": "stream",
     "text": [
      "0\n",
      "1\n",
      "5\n",
      "14\n",
      "30\n",
      "55\n",
      "91\n",
      "140\n",
      "204\n",
      "285\n"
     ]
    }
   ],
   "source": [
    "##for loop\n",
    "\n",
    "m=int(input(\"enter the a natural number\"))\n",
    "sum=0\n",
    "for i in range(m):\n",
    "     sum=sum+i**2\n",
    "     print(sum)\n"
   ]
  },
  {
   "cell_type": "code",
   "execution_count": 164,
   "id": "7b992080-1b42-4210-aac5-0aeab9a427ca",
   "metadata": {},
   "outputs": [
    {
     "name": "stdin",
     "output_type": "stream",
     "text": [
      "enter the a natural number 12\n"
     ]
    },
    {
     "name": "stdout",
     "output_type": "stream",
     "text": [
      "The sum of the number are:\n",
      "0\n",
      "1\n",
      "5\n",
      "14\n",
      "30\n",
      "55\n",
      "91\n",
      "140\n",
      "204\n",
      "285\n",
      "385\n",
      "506\n"
     ]
    }
   ],
   "source": [
    "##while loop\n",
    "m=int(input(\"enter the a natural number\"))\n",
    "sum=0\n",
    "i=0\n",
    "print(\"The sum of the number are:\")\n",
    "while i < m :\n",
    "     sum=sum+i**2\n",
    "     i=i+1\n",
    "     print(sum)"
   ]
  },
  {
   "cell_type": "markdown",
   "id": "0a66e2be-dc71-4367-8ec2-b2488bee3a30",
   "metadata": {},
   "source": [
    "9. a) Write python code that prints all the divisors of a given natural number."
   ]
  },
  {
   "cell_type": "code",
   "execution_count": 162,
   "id": "1e677d58-5886-455d-8684-2d3e4ce602d8",
   "metadata": {},
   "outputs": [
    {
     "name": "stdin",
     "output_type": "stream",
     "text": [
      "Enter the number 12\n"
     ]
    },
    {
     "name": "stdout",
     "output_type": "stream",
     "text": [
      "The divisors of the number are\n",
      "1\n",
      "2\n",
      "3\n",
      "4\n",
      "6\n",
      "12\n"
     ]
    }
   ],
   "source": [
    "##for loop\n",
    "number = int(input(\"Enter the number\"))\n",
    "print (\"The divisors of the number are\")\n",
    "for i in range(1,number+1):\n",
    "    if number%i == 0:\n",
    "       print(i)"
   ]
  },
  {
   "cell_type": "code",
   "execution_count": 1,
   "id": "c14eea8e-b1ea-46da-b164-38e644f741e9",
   "metadata": {},
   "outputs": [
    {
     "name": "stdin",
     "output_type": "stream",
     "text": [
      "Enter the number:  10\n"
     ]
    },
    {
     "name": "stdout",
     "output_type": "stream",
     "text": [
      "The divisors of the number are:\n",
      "1\n",
      "2\n",
      "5\n",
      "10\n"
     ]
    }
   ],
   "source": [
    "number = int(input(\"Enter the number: \"))\n",
    "print(\"The divisors of the number are:\")\n",
    "i = 1\n",
    "while i <= number:\n",
    "    if number % i == 0:\n",
    "        print(i)\n",
    "    i += 1\n"
   ]
  },
  {
   "cell_type": "markdown",
   "id": "6a7630e0-5a38-4a82-9e57-acbfab6d787a",
   "metadata": {},
   "source": [
    "b) Read an integer number input by the user and calculate its prime factors. This will\n",
    "just be some of its divisors."
   ]
  },
  {
   "cell_type": "code",
   "execution_count": 6,
   "id": "aa5fbbd9-71fd-47d5-8350-3edb6d1ff9e5",
   "metadata": {},
   "outputs": [
    {
     "name": "stdin",
     "output_type": "stream",
     "text": [
      "Enter the number 15\n"
     ]
    },
    {
     "name": "stdout",
     "output_type": "stream",
     "text": [
      "The prime factors are:\n",
      "3\n",
      "5\n"
     ]
    }
   ],
   "source": [
    "number = int(input(\"Enter the number\"))\n",
    "i=2\n",
    "print(\"The prime factors are:\")\n",
    "while i<= number:\n",
    "    if number % i == 0:\n",
    "        print(i)\n",
    "        number=number//i\n",
    "    else:\n",
    "        i=i+1\n"
   ]
  },
  {
   "cell_type": "markdown",
   "id": "37791019-1e02-4af5-a485-301f032da635",
   "metadata": {},
   "source": [
    "10. Read an integer number between n 0 and 9 and print its multiplication table up to N\n",
    "where N is another another natural number read by the program."
   ]
  },
  {
   "cell_type": "code",
   "execution_count": 13,
   "id": "2224d8a3-a0e3-4ef7-955f-d5b6b39d8ef1",
   "metadata": {},
   "outputs": [
    {
     "name": "stdin",
     "output_type": "stream",
     "text": [
      "Enter the  interget between 0 and 9 6\n",
      "enter another natural number 9\n"
     ]
    },
    {
     "name": "stdout",
     "output_type": "stream",
     "text": [
      "Multiplication table of 6 up to 9\n",
      "6 X 1 = 6\n",
      "6 X 2 = 12\n",
      "6 X 3 = 18\n",
      "6 X 4 = 24\n",
      "6 X 5 = 30\n",
      "6 X 6 = 36\n",
      "6 X 7 = 42\n",
      "6 X 8 = 48\n",
      "6 X 9 = 54\n"
     ]
    }
   ],
   "source": [
    "number=int(input(\"Enter the  interget between 0 and 9\"))\n",
    "n = int(input(\"enter another natural number\"))\n",
    "if number>=0 & number<=9:\n",
    "    print(f\"Multiplication table of {number} up to {n}\")\n",
    "    for i in range (1,n+1):\n",
    "        print(f\"{number} X {i} = {number * i}\")\n",
    "else:\n",
    "    print(\"the number is not in the range\")"
   ]
  },
  {
   "cell_type": "markdown",
   "id": "559389a6-93f3-451b-8802-8ff666e619f3",
   "metadata": {},
   "source": [
    "11. Write a program that prints all the numbers between 0 and 40 that are multiples of 3, 7\n",
    "or 11."
   ]
  },
  {
   "cell_type": "code",
   "execution_count": 8,
   "id": "e7df5b9a-08e0-4baa-ad24-6e6abb665672",
   "metadata": {},
   "outputs": [
    {
     "name": "stdout",
     "output_type": "stream",
     "text": [
      "The multiples of  3,7 or 11 are:\n",
      "{0, 3, 6, 7, 9, 11, 12, 14, 15, 18, 21, 22, 24, 27, 28, 30, 33, 35, 36, 39}\n"
     ]
    }
   ],
   "source": [
    "\n",
    "print(\"The multiples of  3,7 or 11 are:\")\n",
    "multiple = set()\n",
    "for i in range(40):\n",
    "    if i%3 ==0 or i%7==0 or i%11==0:\n",
    "        multiple.add(i)\n",
    "print(multiple)\n"
   ]
  },
  {
   "cell_type": "markdown",
   "id": "e93cfbb5-43c0-40ca-87d0-6b723898d5d9",
   "metadata": {},
   "source": [
    "12.Write python code that prints the floor of a float x. Recall that the floor of a float x is the\n",
    "largest integer value less than or equal to x, i.e. if E[x] is the floor of x, then it satisfies,\n",
    "\n",
    "E[x] = 1 + E[x − 1]"
   ]
  },
  {
   "cell_type": "code",
   "execution_count": 40,
   "id": "fe580daa-a357-4805-a50f-140fad482558",
   "metadata": {},
   "outputs": [
    {
     "name": "stdin",
     "output_type": "stream",
     "text": [
      "enter the a float number: 1.8\n"
     ]
    },
    {
     "name": "stdout",
     "output_type": "stream",
     "text": [
      "The floor of 1.8 is 1.\n"
     ]
    }
   ],
   "source": [
    "x= float(input(\"enter the a float number:\"))\n",
    "floor_result= 0\n",
    "if x<0 :\n",
    "    while floor_result > x:\n",
    "        floor_result = floor_resut-1\n",
    "else:\n",
    "     while floor_result <= x:\n",
    "           floor_result = floor_result+ 1\n",
    "     floor_result= floor_result - 1  \n",
    "\n",
    "print(f\"The floor of {x} is {floor_result}.\")\n",
    "\n"
   ]
  },
  {
   "cell_type": "markdown",
   "id": "3e1ad2af-1a42-4ce9-9c3a-ad6169098537",
   "metadata": {},
   "source": [
    "13.Given a point in the plane by its Cartesian coordinates, determine in which quadrant it is\n",
    "(1st, 2nd, 3rd, 4th), if it lies on an axis, or if it is the origin. Do this for several points in\n",
    "the same execution of the program until the user quits."
   ]
  },
  {
   "cell_type": "code",
   "execution_count": null,
   "id": "88a1b223-6e92-49c0-8a54-e2340a6fffbb",
   "metadata": {},
   "outputs": [],
   "source": [
    "while True:\n",
    "    x = float(input(\"Enter the x-coordinate: \"))\n",
    "    y = float(input(\"Enter the y-coordinate: \"))\n",
    "\n",
    "    if x == 0 and y == 0:\n",
    "        print(\"The point is at the origin.\")\n",
    "    elif x == 0:\n",
    "        print(\"The point lies on the y-axis.\")\n",
    "    elif y == 0:\n",
    "        print(\"The point lies on the x-axis.\")\n",
    "    elif x > 0 and y > 0:\n",
    "        print(\"The point is in the 1st quadrant.\")\n",
    "    elif x < 0 and y > 0:\n",
    "        print(\"The point is in the 2nd quadrant.\")\n",
    "    elif x < 0 and y < 0:\n",
    "        print(\"The point is in the 3rd quadrant.\")\n",
    "    elif x > 0 and y < 0:\n",
    "        print(\"The point is in the 4th quadrant.\")\n",
    "    \n",
    "    continue_input = input(\"Do you want to enter another point? (yes/no): \").strip().lower()\n",
    "    if continue_input != \"yes\":\n",
    "        break\n",
    "\n",
    "\n"
   ]
  },
  {
   "cell_type": "markdown",
   "id": "f6a1b091-b9aa-4d0d-a515-732d3d1000f4",
   "metadata": {},
   "source": [
    "14.Ask for an integer number between 0 and 9, denoted x. Once the user has entered a correct\n",
    "number (that is one in the range [0..10)) the program asks for a second integer number\n",
    "between 0 and 255, denoted max. The program continues asking for the number until it\n",
    "is correct (that it is in the range [0..256)). When this is done, show all multiples of x that\n",
    "are between 0 and max. Then, ask the user whether he/she wants to continue; if in the\n",
    "affirmative, ask for another couple of numbers, otherwise finish."
   ]
  },
  {
   "cell_type": "code",
   "execution_count": null,
   "id": "7d78ac84-3baf-4a96-8301-24b07896fc8c",
   "metadata": {},
   "outputs": [],
   "source": [
    "while True:\n",
    "    x = int(input(\"Enter an integer number between 0 and 9: \"))\n",
    "    while x < 0 or x >= 10:\n",
    "        print(\"Invalid input. Please enter a number between 0 and 9.\")\n",
    "        x = int(input(\"Enter an integer number between 0 and 9: \"))\n",
    "\n",
    "    max = int(input(\"Enter an integer number between 0 and 255: \"))\n",
    "    while max< 0 or max >= 256:\n",
    "        print(\"Invalid input. Please enter a number between 0 and 255.\")\n",
    "        max_value = int(input(\"Enter an integer number between 0 and 255: \"))\n",
    "\n",
    "    print(f\"Multiples of {x} between 0 and {max} are:\")\n",
    "    for i in range(0, max + 1):\n",
    "        if i % x == 0:\n",
    "            print(i, end=\" \")\n",
    "\n",
    "    print(\"\\n\")  \n",
    "\n",
    "    continue_input = input(\"Do you want to enter another set of numbers? (yes/no): \").strip().lower()\n",
    "    if continue_input != \"yes\":\n",
    "        break\n"
   ]
  }
 ],
 "metadata": {
  "kernelspec": {
   "display_name": "Python 3 (ipykernel)",
   "language": "python",
   "name": "python3"
  },
  "language_info": {
   "codemirror_mode": {
    "name": "ipython",
    "version": 3
   },
   "file_extension": ".py",
   "mimetype": "text/x-python",
   "name": "python",
   "nbconvert_exporter": "python",
   "pygments_lexer": "ipython3",
   "version": "3.12.4"
  }
 },
 "nbformat": 4,
 "nbformat_minor": 5
}
