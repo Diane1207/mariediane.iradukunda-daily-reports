{
 "cells": [
  {
   "cell_type": "markdown",
   "id": "cee0798f-1a10-493c-bcec-1782534b171d",
   "metadata": {},
   "source": [
    "#### Exercise 1:\n",
    "Create a NumPy array of integers from 1 to 10."
   ]
  },
  {
   "cell_type": "code",
   "execution_count": 6,
   "id": "032d62e2-28ea-4cbf-9334-919f20bb08b3",
   "metadata": {},
   "outputs": [],
   "source": [
    "import numpy as np"
   ]
  },
  {
   "cell_type": "code",
   "execution_count": 10,
   "id": "b1929435-6415-4864-a812-35ff84228c62",
   "metadata": {},
   "outputs": [
    {
     "name": "stdout",
     "output_type": "stream",
     "text": [
      "[ 1  2  3  4  5  6  7  8  9 10]\n"
     ]
    }
   ],
   "source": [
    " NumPy= np.arange(1,11,1)\n",
    "print(NumPy)"
   ]
  },
  {
   "cell_type": "markdown",
   "id": "b5ddf3fe-364c-42ba-8284-29cef8f5df4f",
   "metadata": {},
   "source": [
    "#### Exercise 2:\n",
    "Create a 3x3 NumPy array filled with zeros."
   ]
  },
  {
   "cell_type": "code",
   "execution_count": 23,
   "id": "b5914e77-7fd6-41a1-b39c-602afc5fc91d",
   "metadata": {},
   "outputs": [
    {
     "data": {
      "text/plain": [
       "array([[0., 0., 0.],\n",
       "       [0., 0., 0.],\n",
       "       [0., 0., 0.]])"
      ]
     },
     "execution_count": 23,
     "metadata": {},
     "output_type": "execute_result"
    }
   ],
   "source": [
    "\n",
    "NumPy=np.zeros((3,3))\n",
    "NumPy\n"
   ]
  },
  {
   "cell_type": "code",
   "execution_count": 37,
   "id": "e5fed390-d453-47fc-8649-da87c79bde38",
   "metadata": {},
   "outputs": [
    {
     "data": {
      "text/plain": [
       "array([0. , 0.1, 0.2, 0.3, 0.4, 0.5, 0.6, 0.7, 0.8, 0.9, 1. , 1.1, 1.2,\n",
       "       1.3, 1.4, 1.5, 1.6, 1.7, 1.8, 1.9, 2. , 2.1, 2.2, 2.3, 2.4, 2.5,\n",
       "       2.6, 2.7, 2.8, 2.9, 3. , 3.1, 3.2, 3.3, 3.4, 3.5, 3.6, 3.7, 3.8,\n",
       "       3.9, 4. , 4.1, 4.2, 4.3, 4.4, 4.5, 4.6, 4.7, 4.8, 4.9])"
      ]
     },
     "execution_count": 37,
     "metadata": {},
     "output_type": "execute_result"
    }
   ],
   "source": [
    "A=np.linspace(0,5, endpoint=False)\n",
    "A"
   ]
  },
  {
   "cell_type": "code",
   "execution_count": 41,
   "id": "5ac33527-777e-4e43-a5f7-25ce32a00350",
   "metadata": {},
   "outputs": [
    {
     "data": {
      "text/plain": [
       "array([[0.0412912 , 0.25098396, 0.99040738, 0.00951163],\n",
       "       [0.69218746, 0.11400733, 0.65721105, 0.92297882],\n",
       "       [0.09940994, 0.77974237, 0.64957578, 0.47085137],\n",
       "       [0.5740124 , 0.37529396, 0.3755189 , 0.75297584]])"
      ]
     },
     "execution_count": 41,
     "metadata": {},
     "output_type": "execute_result"
    }
   ],
   "source": [
    "A=np.random.random((4,4))\n",
    "A"
   ]
  },
  {
   "cell_type": "code",
   "execution_count": 53,
   "id": "52a98b22-a2c5-41e1-bb07-6e9f7dfefdd5",
   "metadata": {},
   "outputs": [],
   "source": [
    "A= np.random.seed(0)\n",
    "A"
   ]
  },
  {
   "cell_type": "code",
   "execution_count": 55,
   "id": "015fc98d-f14f-43e7-9f2c-f1ee7faf77cb",
   "metadata": {},
   "outputs": [
    {
     "data": {
      "text/plain": [
       "array([[0.5488135 , 0.71518937, 0.60276338, 0.54488318],\n",
       "       [0.4236548 , 0.64589411, 0.43758721, 0.891773  ],\n",
       "       [0.96366276, 0.38344152, 0.79172504, 0.52889492],\n",
       "       [0.56804456, 0.92559664, 0.07103606, 0.0871293 ]])"
      ]
     },
     "execution_count": 55,
     "metadata": {},
     "output_type": "execute_result"
    }
   ],
   "source": [
    "A=np.random.rand(4,4)\n",
    "A"
   ]
  },
  {
   "cell_type": "code",
   "execution_count": 57,
   "id": "2a479a81-cb97-45d0-b0d7-af50e537f34c",
   "metadata": {},
   "outputs": [
    {
     "data": {
      "text/plain": [
       "(4, 4)"
      ]
     },
     "execution_count": 57,
     "metadata": {},
     "output_type": "execute_result"
    }
   ],
   "source": [
    "A.shape"
   ]
  },
  {
   "cell_type": "code",
   "execution_count": 61,
   "id": "580325c6-8419-4efa-ad09-a4f76f95bcf2",
   "metadata": {},
   "outputs": [
    {
     "data": {
      "text/plain": [
       "array([ 0,  1,  2,  3,  4,  5,  6,  7,  8,  9, 10, 11, 12, 13, 14, 15])"
      ]
     },
     "execution_count": 61,
     "metadata": {},
     "output_type": "execute_result"
    }
   ],
   "source": [
    "A=np.arange(16)\n",
    "A"
   ]
  },
  {
   "cell_type": "code",
   "execution_count": 79,
   "id": "86c391a1-ff52-43cc-808b-fed2a1c7c70a",
   "metadata": {},
   "outputs": [
    {
     "name": "stdout",
     "output_type": "stream",
     "text": [
      "[[ 0  1  2  3]\n",
      " [ 4  5  6  7]\n",
      " [ 8  9 10 11]\n",
      " [12 13 14 15]]\n"
     ]
    }
   ],
   "source": [
    "x = np.arange(16)\n",
    "x = x.reshape((4,4))\n",
    "print (x)\n"
   ]
  },
  {
   "cell_type": "code",
   "execution_count": 81,
   "id": "a84f5e87-918b-4348-b76a-bcc5ed6869db",
   "metadata": {},
   "outputs": [
    {
     "data": {
      "text/plain": [
       "array([24, 28, 32, 36])"
      ]
     },
     "execution_count": 81,
     "metadata": {},
     "output_type": "execute_result"
    }
   ],
   "source": [
    "B=sum(x)\n",
    "B"
   ]
  },
  {
   "cell_type": "markdown",
   "id": "b1c1054d-3ebb-40e4-8898-1357bbc7f52c",
   "metadata": {},
   "source": [
    "Calculate the mean, median, and standard deviation of a NumPy array\n"
   ]
  },
  {
   "cell_type": "code",
   "execution_count": 94,
   "id": "b92f7667-8947-4fb1-a292-3175639bcc8b",
   "metadata": {},
   "outputs": [
    {
     "name": "stdout",
     "output_type": "stream",
     "text": [
      "[ 1  2  3  4  5  6  7  8  9 10 11 12 13 14 15]\n",
      "8.0\n",
      "8.0\n",
      "4.320493798938574\n"
     ]
    }
   ],
   "source": [
    "B=np.arange(1,16,1)\n",
    "print(B)\n",
    "M=np.mean(B)\n",
    "print(M)\n",
    "med=np.median(B)\n",
    "print(med)\n",
    "st=np.std(B)\n",
    "print(st)"
   ]
  },
  {
   "cell_type": "markdown",
   "id": "c8579130-618d-4e7a-96df-d2c9d6ec0bcc",
   "metadata": {},
   "source": [
    "Find the maximum and minimum values in a NumPy array"
   ]
  },
  {
   "cell_type": "code",
   "execution_count": 97,
   "id": "3634992c-bbad-48fc-b7b7-f60240384ac7",
   "metadata": {},
   "outputs": [
    {
     "name": "stdout",
     "output_type": "stream",
     "text": [
      "15\n",
      "0\n"
     ]
    }
   ],
   "source": [
    "x = np.arange(16)\n",
    "x = x.reshape((4,4))\n",
    "max=np.amax(x)\n",
    "print(max)\n",
    "min=np.amin(x)\n",
    "print(min)"
   ]
  },
  {
   "cell_type": "markdown",
   "id": "6f5a01bb-959f-4860-8e74-e983e776f2d7",
   "metadata": {},
   "source": [
    "Create a NumPy array of 20 random integers and find the index of the maximum value."
   ]
  },
  {
   "cell_type": "code",
   "execution_count": 117,
   "id": "9642999c-c360-4345-a824-30cb6d00dcb8",
   "metadata": {},
   "outputs": [
    {
     "data": {
      "text/plain": [
       "array([[ 3,  3,  4],\n",
       "       [ 4, 19, 15],\n",
       "       [ 4, 18, 19]])"
      ]
     },
     "execution_count": 117,
     "metadata": {},
     "output_type": "execute_result"
    }
   ],
   "source": [
    "B=np.random.randint(1,20,(3,3))\n",
    "B\n",
    "max_value=np.argmax(B)\n",
    "max_value\n"
   ]
  },
  {
   "cell_type": "markdown",
   "id": "60c9975f-c7fe-4262-b96b-cff457c35399",
   "metadata": {},
   "source": [
    "Exercise 16:\n",
    "Create a NumPy array and reverse its elements."
   ]
  },
  {
   "cell_type": "code",
   "execution_count": 119,
   "id": "cb45029e-9cae-4bfe-8b9f-8dd301c38dc4",
   "metadata": {},
   "outputs": [
    {
     "name": "stdout",
     "output_type": "stream",
     "text": [
      "[[15 10  2]\n",
      " [ 5 11 12]\n",
      " [ 9 12  3]]\n"
     ]
    }
   ],
   "source": [
    "B=np.random.randint(1,20,(3,3))\n",
    "reverse=B[::1]\n",
    "print(reverse)"
   ]
  },
  {
   "cell_type": "markdown",
   "id": "5ec248b0-3638-4ea8-8694-d897c2625a9e",
   "metadata": {},
   "source": [
    "#### Exercise\n",
    "Create a 3x3 matrix and multiply it element-wise by another 3x3 matrix.\n",
    "\n"
   ]
  },
  {
   "cell_type": "code",
   "execution_count": 122,
   "id": "a17198c0-b4a8-4b83-a052-ef32d5ac27ae",
   "metadata": {},
   "outputs": [
    {
     "name": "stdout",
     "output_type": "stream",
     "text": [
      "[[289   1   1]\n",
      " [ 49 225 121]\n",
      " [ 81 196   9]]\n"
     ]
    }
   ],
   "source": [
    "B=np.random.randint(1,20,(3,3))\n",
    "c=B*B\n",
    "print(c)"
   ]
  },
  {
   "cell_type": "markdown",
   "id": "f106daa8-699b-4317-8103-3a9307f2f17d",
   "metadata": {},
   "source": [
    "#### Exercise 18\n",
    "Create a diagonal matrix from a given 1D array"
   ]
  },
  {
   "cell_type": "code",
   "execution_count": 125,
   "id": "e0b59221-26d2-474c-b2b0-92651974f7a8",
   "metadata": {},
   "outputs": [
    {
     "name": "stdout",
     "output_type": "stream",
     "text": [
      "[[ 1  0  0  0  0  0]\n",
      " [ 0  3  0  0  0  0]\n",
      " [ 0  0  5  0  0  0]\n",
      " [ 0  0  0  7  0  0]\n",
      " [ 0  0  0  0  9  0]\n",
      " [ 0  0  0  0  0 11]]\n"
     ]
    }
   ],
   "source": [
    "C=np.arange(1,12,2)\n",
    "D=np.diag(C)\n",
    "print(D)"
   ]
  },
  {
   "cell_type": "markdown",
   "id": "d9dacd85-b2ec-4acf-b458-b2449e82cf89",
   "metadata": {},
   "source": [
    "#### Exercise 19\n",
    "Perform matrix multiplication on two 2D NumPy arrays"
   ]
  },
  {
   "cell_type": "code",
   "execution_count": 140,
   "id": "54dd2a71-ff4d-4132-ba1d-1ba39066a386",
   "metadata": {},
   "outputs": [
    {
     "data": {
      "text/plain": [
       "array([[ 16,  16,  64],\n",
       "       [100, 100, 100],\n",
       "       [ 16, 225, 361]])"
      ]
     },
     "execution_count": 140,
     "metadata": {},
     "output_type": "execute_result"
    }
   ],
   "source": [
    "C=np.random.randint(1,20,(3,3))\n",
    "Mul=C*C\n",
    "Mul"
   ]
  },
  {
   "cell_type": "markdown",
   "id": "b0a1347f-75d9-4231-b0b1-024d6b05c185",
   "metadata": {},
   "source": [
    "#### Exercise 20\n",
    "Flatten a 2D NumPy array into a 1D array"
   ]
  },
  {
   "cell_type": "code",
   "execution_count": 143,
   "id": "290f5af9-6508-4a6d-89a2-963c9cb4c880",
   "metadata": {},
   "outputs": [
    {
     "data": {
      "text/plain": [
       "array([13,  4, 10, 11, 14,  8,  8,  2, 13])"
      ]
     },
     "execution_count": 143,
     "metadata": {},
     "output_type": "execute_result"
    }
   ],
   "source": [
    "B=np.random.randint(1,20,(3,3))\n",
    "c=B.reshape(9)\n",
    "c"
   ]
  },
  {
   "cell_type": "markdown",
   "id": "9e1d686c-ce41-4bda-b1b3-02162d57eff4",
   "metadata": {},
   "source": [
    "### Exercise 21:\n",
    "Stack two NumPy arrays vertically"
   ]
  },
  {
   "cell_type": "code",
   "execution_count": 170,
   "id": "96004ee8-e991-4827-9a52-b08407179bd3",
   "metadata": {},
   "outputs": [
    {
     "name": "stdout",
     "output_type": "stream",
     "text": [
      "[[12 19 14]\n",
      " [ 2  7 11]\n",
      " [17 17  4]\n",
      " [ 2  7  7]\n",
      " [ 8  9  9]\n",
      " [ 8  1  9]]\n"
     ]
    }
   ],
   "source": [
    "B=np.random.randint(1,20,(3,3))\n",
    "C=np.random.randint(1,10,(3,3))\n",
    "d=np.vstack((B,C))\n",
    "print(d)"
   ]
  },
  {
   "cell_type": "markdown",
   "id": "ab1dfed7-75dd-4fc7-ae9a-3b03861f7b54",
   "metadata": {},
   "source": [
    "#### Exercise 22\n",
    "Stack two NumPy arrays horizontally."
   ]
  },
  {
   "cell_type": "code",
   "execution_count": 173,
   "id": "af3ada9e-6637-41f0-8973-cbe99ef05ffd",
   "metadata": {},
   "outputs": [
    {
     "name": "stdout",
     "output_type": "stream",
     "text": [
      "[[12 19 14  2  7  7]\n",
      " [ 2  7 11  8  9  9]\n",
      " [17 17  4  8  1  9]]\n"
     ]
    }
   ],
   "source": [
    "F=np.hstack((B,C))\n",
    "print(F)"
   ]
  },
  {
   "cell_type": "markdown",
   "id": "4e328a75-6c8a-413b-9551-bf7088cefd94",
   "metadata": {},
   "source": [
    "### Exercise 23\n",
    "Split a NumPy array into multiple sub-arrays.\n"
   ]
  },
  {
   "cell_type": "code",
   "execution_count": 192,
   "id": "5614ecf3-dba3-42da-b8fc-ce59d1ef401a",
   "metadata": {},
   "outputs": [
    {
     "name": "stdout",
     "output_type": "stream",
     "text": [
      "[[ 3  2 12]\n",
      " [ 4 13  5]\n",
      " [ 2 18  1]]\n",
      "[array([[ 3,  2, 12]]), array([[ 4, 13,  5]]), array([[ 2, 18,  1]])]\n"
     ]
    }
   ],
   "source": [
    "B=np.random.randint(1,20,(3,3))\n",
    "print(B)\n",
    "new_array=np.split(B,3)\n",
    "print(new_array)"
   ]
  },
  {
   "cell_type": "markdown",
   "id": "39296d4a-5301-4f85-9e57-7f188f81e5fb",
   "metadata": {},
   "source": [
    "### Exercise 24:\n",
    "Generate a random NumPy array and round each element to two decimal places."
   ]
  },
  {
   "cell_type": "code",
   "execution_count": 210,
   "id": "334e1d95-eacc-4f57-91af-a0f781f11b2d",
   "metadata": {},
   "outputs": [
    {
     "data": {
      "text/plain": [
       "array([[0.49, 0.47, 0.88],\n",
       "       [0.49, 0.41, 0.17],\n",
       "       [0.48, 0.78, 0.56]])"
      ]
     },
     "execution_count": 210,
     "metadata": {},
     "output_type": "execute_result"
    }
   ],
   "source": [
    "B=np.random.random((3,3))\n",
    "X=np.round(B,2)\n",
    "X"
   ]
  },
  {
   "cell_type": "markdown",
   "id": "de308f6f-b8fb-44c0-93ad-f0cae5611e87",
   "metadata": {},
   "source": [
    "###  Exercise 25:\n",
    "Find the unique elements of a NumPy array."
   ]
  },
  {
   "cell_type": "code",
   "execution_count": 216,
   "id": "73d63744-e22e-40ee-b277-8cd89d130264",
   "metadata": {},
   "outputs": [
    {
     "name": "stdout",
     "output_type": "stream",
     "text": [
      "[0.17 0.41 0.47 0.48 0.49 0.56 0.78 0.88]\n"
     ]
    }
   ],
   "source": [
    "unique_elements=np.unique(X)\n",
    "print(unique_elements)"
   ]
  },
  {
   "cell_type": "markdown",
   "id": "d8424cc2-aab2-4136-b5b9-22fa4dae5f45",
   "metadata": {},
   "source": [
    "#### Exercise 26:\n",
    "Replace all elements in a NumPy array that are less than a specific value with that value."
   ]
  },
  {
   "cell_type": "code",
   "execution_count": 225,
   "id": "73d540a3-5937-48ba-81b6-dba293d7242e",
   "metadata": {},
   "outputs": [
    {
     "name": "stdout",
     "output_type": "stream",
     "text": [
      "[[18 19 14]\n",
      " [14  3  4]\n",
      " [10 13 16]]\n"
     ]
    }
   ],
   "source": [
    "X=np.random.randint(1,20,(3,3))\n",
    "x[x > 4] = 5\n",
    "print(X)"
   ]
  },
  {
   "cell_type": "markdown",
   "id": "0f5fe7e1-9a4a-46f7-9a0f-3f1da50f889a",
   "metadata": {},
   "source": [
    "### Exercise 27:\n",
    "Find the cumulative sum of the elements in a NumPy array."
   ]
  },
  {
   "cell_type": "code",
   "execution_count": 228,
   "id": "2be5f609-ddcc-4d05-a25b-b359e1984aaf",
   "metadata": {},
   "outputs": [
    {
     "data": {
      "text/plain": [
       "array([ 3, 10, 25, 42, 58, 67, 68, 79, 91])"
      ]
     },
     "execution_count": 228,
     "metadata": {},
     "output_type": "execute_result"
    }
   ],
   "source": [
    "X=np.random.randint(1,20,(3,3))\n",
    "sum=np.cumsum(X)\n",
    "sum"
   ]
  },
  {
   "cell_type": "markdown",
   "id": "ccafe104-2426-4fca-a11d-1c52eb52f7eb",
   "metadata": {},
   "source": [
    "### Exercise 28:\n",
    "Create a NumPy array and find the number of non-zero elements in it."
   ]
  },
  {
   "cell_type": "code",
   "execution_count": 235,
   "id": "3720a4eb-d964-4cf9-97cc-ba0b945b0ab8",
   "metadata": {},
   "outputs": [
    {
     "name": "stdout",
     "output_type": "stream",
     "text": [
      "0\n"
     ]
    }
   ],
   "source": [
    "Non_zero=np.count_nonzero(x)\n",
    "print(Non_zero)"
   ]
  },
  {
   "cell_type": "markdown",
   "id": "8575d5e7-e90b-4f8b-a546-1585b92678bb",
   "metadata": {},
   "source": [
    "#### Exercise 29:\n",
    "Create a NumPy array of random integers and sort it in ascending order."
   ]
  },
  {
   "cell_type": "code",
   "execution_count": 238,
   "id": "dbd1f2a9-1ff0-478d-80b1-95073e28e5ad",
   "metadata": {},
   "outputs": [
    {
     "data": {
      "text/plain": [
       "array([[ 7,  8, 14],\n",
       "       [10, 14, 16],\n",
       "       [ 7, 12, 19]])"
      ]
     },
     "execution_count": 238,
     "metadata": {},
     "output_type": "execute_result"
    }
   ],
   "source": [
    "n=np.random.randint(1,20,(3,3))\n",
    "srt=np.sort(n)\n",
    "srt"
   ]
  },
  {
   "cell_type": "markdown",
   "id": "bf10eb54-78de-4005-8509-e9e19bdf3242",
   "metadata": {},
   "source": [
    "#### Exercise 30:\n",
    "Find the row-wise and column-wise sum of a 3x3 matrix."
   ]
  },
  {
   "cell_type": "code",
   "execution_count": 243,
   "id": "2d92d094-5273-4cae-b0df-7825aec84a7a",
   "metadata": {},
   "outputs": [
    {
     "data": {
      "text/plain": [
       "array([36, 24, 29])"
      ]
     },
     "execution_count": 243,
     "metadata": {},
     "output_type": "execute_result"
    }
   ],
   "source": [
    "n=np.random.randint(1,20,(3,3))\n",
    "c=np.sum(n, axis=0)   \n",
    "r=np.sum(n, axis=1)\n",
    "c\n",
    "r"
   ]
  }
 ],
 "metadata": {
  "kernelspec": {
   "display_name": "Python 3 (ipykernel)",
   "language": "python",
   "name": "python3"
  },
  "language_info": {
   "codemirror_mode": {
    "name": "ipython",
    "version": 3
   },
   "file_extension": ".py",
   "mimetype": "text/x-python",
   "name": "python",
   "nbconvert_exporter": "python",
   "pygments_lexer": "ipython3",
   "version": "3.12.4"
  }
 },
 "nbformat": 4,
 "nbformat_minor": 5
}
